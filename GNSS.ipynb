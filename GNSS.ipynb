{
 "cells": [
  {
   "cell_type": "markdown",
   "id": "fb7db36c",
   "metadata": {},
   "source": [
    "# O GNSS (pipeline de dados)\n",
    "\n",
    "Este repositório tem como objetivo descrever o processamento de dados de GNSS a fim de obter mapas de TEC (conteúdo eletrônico total) da ionosfera. \n",
    "\n",
    "## Ponto ionosférico (Ionospheric Piercing Point, IPP)\n",
    "\n",
    "\n",
    "\n",
    "## Detecção e remoção de ciclo de perda (Cycle-Slips)\n",
    "\n",
    "\n",
    "## TEC relativo\n",
    "\n",
    "## Trajetórias dos satélites (PRNs)"
   ]
  }
 ],
 "metadata": {
  "kernelspec": {
   "display_name": "Python 3 (ipykernel)",
   "language": "python",
   "name": "python3"
  },
  "language_info": {
   "codemirror_mode": {
    "name": "ipython",
    "version": 3
   },
   "file_extension": ".py",
   "mimetype": "text/x-python",
   "name": "python",
   "nbconvert_exporter": "python",
   "pygments_lexer": "ipython3",
   "version": "3.9.7"
  }
 },
 "nbformat": 4,
 "nbformat_minor": 5
}
